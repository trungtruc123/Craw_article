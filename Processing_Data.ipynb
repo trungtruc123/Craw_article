{
 "cells": [
  {
   "cell_type": "markdown",
   "metadata": {},
   "source": [
    "# Remove ',.;-{},..."
   ]
  },
  {
   "cell_type": "code",
   "execution_count": 20,
   "metadata": {},
   "outputs": [],
   "source": [
    "import re"
   ]
  },
  {
   "cell_type": "code",
   "execution_count": 21,
   "metadata": {},
   "outputs": [],
   "source": [
    "def standardize_data(row):\n",
    "    # remove stopword\n",
    "    # Remove . ? , at index final\n",
    "    row = re.sub(r\"[\\.,\\?]+$-\", \"\", row)\n",
    "    row = re.sub(\" \\d+\", \" \", row)\n",
    "    # Remove all . , \" ... in sentences\n",
    "    row = row.replace(\",\", \"\").replace(\".\", \"\") \\\n",
    "        .replace(\";\", \"\").replace(\"“\", \"\") \\\n",
    "        .replace(\":\", \"\").replace(\"”\", \"\") \\\n",
    "        .replace('\"', \"\").replace(\"'\", \"\") \\\n",
    "        .replace(\"!\", \"\").replace(\"?\", \"\") \\\n",
    "        .replace(\"-\", \"\").replace(\"?\", \"\") \\\n",
    "        .replace(\"_\", \"\").replace(\"*\", \"\") \\\n",
    "        .replace(\"(\", \"\").replace(\")\", \"\") \\\n",
    "        .replace(\"0\", \"\").replace(\"1\", \"\") \\\n",
    "        .replace(\"2\", \"\").replace(\"3\", \"\") \\\n",
    "        .replace(\"4\", \"\").replace(\"5\", \"\") \\\n",
    "        .replace(\"6\", \"\").replace(\"7\", \"\") \\\n",
    "        .replace(\"8\", \"\").replace(\"9\", \"\") \\\n",
    "        \n",
    "    row = row.strip()\n",
    "    return row"
   ]
  },
  {
   "cell_type": "code",
   "execution_count": 22,
   "metadata": {},
   "outputs": [],
   "source": [
    "def process_data(path_input, path_out):\n",
    "    with open(path_input, 'r') as f:\n",
    "        lines = f.readlines() # list\n",
    "        for l in lines :\n",
    "            process = standardize_data(l)\n",
    "            with open(path_out, 'a+') as f1 :\n",
    "                f1.write(process +'\\n')\n",
    "    f.close()\n",
    "    f1.close()\n",
    "    \n",
    "    \n",
    "process_data(path_input ='train2.txt', path_out ='train2_process.txt')"
   ]
  }
 ],
 "metadata": {
  "kernelspec": {
   "display_name": "Python 3",
   "language": "python",
   "name": "python3"
  },
  "language_info": {
   "codemirror_mode": {
    "name": "ipython",
    "version": 3
   },
   "file_extension": ".py",
   "mimetype": "text/x-python",
   "name": "python",
   "nbconvert_exporter": "python",
   "pygments_lexer": "ipython3",
   "version": "3.7.3"
  }
 },
 "nbformat": 4,
 "nbformat_minor": 2
}

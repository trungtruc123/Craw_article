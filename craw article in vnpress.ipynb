{
 "cells": [
  {
   "cell_type": "code",
   "execution_count": 3,
   "metadata": {},
   "outputs": [],
   "source": [
    "from bs4 import BeautifulSoup\n",
    "import urllib.request\n",
    "import ssl\n",
    "import requests\n",
    "import json\n",
    "import csv"
   ]
  },
  {
   "cell_type": "code",
   "execution_count": 39,
   "metadata": {},
   "outputs": [
    {
     "name": "stdout",
     "output_type": "stream",
     "text": [
      "title:  Phát hiện nhiều người ngộ độc nhẹ sau ăn pate Minh Chay\n",
      "content:  Nhà chức trách Nam Định, Quảng Trị, trong quá trình rà soát người mua ăn pate Minh Chay tính đến ngày 15/9, phát hiện một số người có biểu hiện ngộ độc nhẹ đã tự khỏi.Cụ thể, 6 người ở Nam Định, bốn người ở Quảng Trị, đau bụng, mờ mắt, nhược cơ, sụp mí, khó thở... sau khi ăn pate Minh Chay. Những người này suốt thời gian qua đều điều trị tại nhà, không đến bệnh viện, đến nay hầu hết đã khỏi.Đại diện Sở Nông nghiệp và Phát triển nông thôn tỉnh Nam Định cho hay đã thống kê 86 người trên địa bàn mua 141 sản phẩm pate Minh Chay, tính đến ngày 11/9. Trong đó, 98 người đã ăn pate, sau đó 6 người xuất hiện triệu chứng đau bụng, đi ngoài, táo bón, mờ mắt, tức ngực, sụp mí, nhược cơ và mệt mỏi, khó thở, buồn nôn.Hiện sức khỏe 5 người đã ổn định, một người vẫn bị sụp mí đang điều trị tại nhà. Nhà chức trách thu hồi được 37 hộp pate Minh Chay.Sản phẩm pate Minh Chay. Ảnh: Cục An toàn thực phẩm cung cấp.Theo bà Hoàng Thị Tố Nga, Phó giám đốc Sở Nông nghiệp và Phát triển nông thôn tỉnh Nam Định, Sở đã đề nghị cơ quan chức năng yêu cầu Công ty TNHH hai thành viên Lối Sống Mới - sản xuất pate Minh Chay - tiếp nhận các sản phẩm đã được thu hồi để xử lý theo quy định và chi trả chi phí liên quan.Tại Quảng Trị, ngày 15/9, Chi cục Quản lý Chất lượng Nông lâm sản và Thủy sản, phối hợp Chi cục An toàn Vệ sinh Thực phẩm thu hồi 16 sản phẩm pate Minh Chay.Nhà chức trách xác định 44 người trên địa bàn mua 59 sản phẩm của Công ty Lối sống mới, gồm 22 hộp pate Minh Chay và 37 sản phẩm khác, kể từ tháng 7 đến nay. Trong số những người ăn pate Minh Chay có bốn người mệt mỏi, nôn mửa, đi ngoài, chóng mặt. Những người này được cơ quan chức năng xác định bị ngộ độc ở mức độ nhẹ và tự khỏi.Nhà chức trách Quảng Trị thu giữ một số sản phẩm pate Minh Chay. Ảnh: Quang HàTrước đó, ngày 29/8, Cục An toàn Thực phẩm, Bộ Y tế, cảnh báo khẩn sản phẩm pate Minh Chay nhiễm vi khuẩn độc botulinum, gây tình trạng liệt cơ, suy hô hấp. Hiện cả nước ghi nhận 16 bệnh nhân ngộ độc botulinum phải nhập viện trong tình trạng nguy kịch, phải thở máy dài ngày.\n",
      "Giang Chinh - Hoàng Táo\n",
      "\n",
      "\n"
     ]
    },
    {
     "name": "stderr",
     "output_type": "stream",
     "text": [
      "/usr/lib/python3/dist-packages/urllib3/connectionpool.py:860: InsecureRequestWarning: Unverified HTTPS request is being made. Adding certificate verification is strongly advised. See: https://urllib3.readthedocs.io/en/latest/advanced-usage.html#ssl-warnings\n",
      "  InsecureRequestWarning)\n"
     ]
    }
   ],
   "source": [
    "def get_article():\n",
    "    url = 'https://vnexpress.net/phat-hien-nhieu-nguoi-ngo-doc-nhe-sau-an-pate-minh-chay-4162299.html'\n",
    "    # page = urllib.request.urlopen(url, context=context)\n",
    "    content = \"\"\n",
    "    page = requests.get(url, verify=False)\n",
    "    soup = BeautifulSoup(page.text, 'html.parser')\n",
    "    title = soup.find(\"h1\", class_='title-detail').get_text()\n",
    "    for ct in soup.find_all(\"p\"):\n",
    "        content += ct.get_text()\n",
    "    return title, content\n",
    "a, b = get_article()\n",
    "print('title: ',a)\n",
    "print('content: ', b)"
   ]
  }
 ],
 "metadata": {
  "kernelspec": {
   "display_name": "Python 3",
   "language": "python",
   "name": "python3"
  },
  "language_info": {
   "codemirror_mode": {
    "name": "ipython",
    "version": 3
   },
   "file_extension": ".py",
   "mimetype": "text/x-python",
   "name": "python",
   "nbconvert_exporter": "python",
   "pygments_lexer": "ipython3",
   "version": "3.6.9"
  }
 },
 "nbformat": 4,
 "nbformat_minor": 4
}
